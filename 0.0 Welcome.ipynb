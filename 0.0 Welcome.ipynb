{
 "cells": [
  {
   "cell_type": "markdown",
   "id": "11150e25-024f-46cb-8ec5-992864291646",
   "metadata": {},
   "source": [
    "<img src=\"images/cuda-python.jpg\" style=\"float: right;\" />\n",
    "\n",
    "# GPU Development in Python 101\n",
    "\n",
    "_Written by [Jacob Tomlinson](https://jacobtomlinson.dev)_\n",
    "\n",
    "**Welcome to the GPU Development in Python 101 tutorial.**\n",
    "\n",
    "I joined NVIDIA in 2019 and since then I’ve gotten to grips with the fundamentals of writing accelerated code in Python. I was amazed to discover that I didn’t need to learn C++ and I didn’t need new development tools. Writing GPU code in Python is easier today than ever, and in this tutorial, I will share what I’ve learned and how you can get started with accelerating your code.\n",
    "\n",
    "In this tutorial we will cover:\n",
    "- What is a GPU and why is it different to a CPU?\n",
    "- An overview of the CUDA development model.\n",
    "- Numba: A high performance compiler for Python.\n",
    "- Writing your first GPU code in Python.\n",
    "- Managing memory.\n",
    "- Understanding what your GPU is doing with pyNVML (memory usage, utilization, etc).\n",
    "- RAPIDS: A suite of GPU accelerated data science libraries.\n",
    "- Working with Numpy style arrays on the GPU.\n",
    "- Working with Pandas style dataframes on the GPU.\n",
    "- Performing some scikit-learn style machine learning on the GPU.\n",
    "\n",
    "Attendees will be expected to have a general knowledge of Python and programming concepts, but no GPU experience will be necessary. The key takeaway for attendees will be the knowledge that they don’t have to do much differently to get their code running on a GPU."
   ]
  },
  {
   "cell_type": "markdown",
   "id": "6cee88d4-a78d-4013-be48-d30834a9becd",
   "metadata": {},
   "source": [
    "### Outline\n",
    "\n",
    "- **Chapter 1** - Intro to GPUs (30 mins)\n",
    "- **Chapter 2** - Writing low level GPU code in Python with Numba (30 mins)\n",
    "- **Chapter 3** - More Numba (30 mins)\n",
    "- **Chapter 4** - Observability and interoperability (30 mins)\n",
    "- **Chapter 5** - Working with NumPy style arrays in Cupy (30 mins)\n",
    "- **Chapter 6** - Accelerating DataFrames with cuDF (30 mins)\n",
    "- **Chapter 7** - High performance machine learning with cuML (30 mins)\n",
    "- **Chapter 8** - Distributing GPU Python code with Dask (30 mins)"
   ]
  },
  {
   "cell_type": "markdown",
   "id": "4fb48fd6-d4d4-4ce7-b1fb-37e9470fb25e",
   "metadata": {},
   "source": [
    "### Requirements\n",
    "\n",
    "#### At a conference\n",
    "\n",
    "Generally when this tutorial is run as part of a conference a compute platform will be provided for attendees. Usually this is a custom [Binder](https://mybinder.org/) platform with GPUs available and dependencies such as drivers preinstalled. If you are following along with this tutorial at a conference right now then refer to your instructor for platform details.\n",
    "\n",
    "#### Running it locally\n",
    "\n",
    "Alternatively you can use your own environment if you have [an NVIDIA Pascal™ or better GPU](https://medium.com/dropout-analytics/which-gpus-work-with-rapids-ai-f562ef29c75f). All workshop material has been tested in the [RAPIDS software environment](https://rapids.ai/start.html#get-rapids) which can be used on Linux or Windows with WSL.\n",
    "\n",
    "##### Operating system\n",
    "\n",
    "- Ubuntu 18.04/20.04 or CentOS 7/8 with gcc/++ 9.0+\n",
    "  - [Installation instructions](https://rapids.ai/start.html#get-rapids)\n",
    "    - See RDN 8 for recent changes to gcc/++ 9.0 requirements\n",
    "    - RHEL 7/8 support is provided through CentOS 7/8 builds/installs\n",
    "- Experimental WSL2 on Windows\n",
    "  - [Alternative Windows installation instructions](https://developer.nvidia.com/blog/run-rapids-on-microsoft-windows-10-using-wsl-2-the-windows-subsystem-for-linux/)\n",
    "\n",
    "##### Drivers\n",
    "\n",
    "One of the following supported CUDA and driver versions:\n",
    "\n",
    "- 11.0 & v450.80.02+\n",
    "- 11.2 & v460.27.03+\n",
    "- 11.4 & v470.42.01+\n",
    "- 11.5 & v495.29.05+\n",
    "\n",
    "If you have a system that meets these requirements then head to the RAPIDS getting started docs to install things either with conda or docker. https://rapids.ai/start.html#get-rapids\n"
   ]
  }
 ],
 "metadata": {
  "kernelspec": {
   "display_name": "Python 3 (ipykernel)",
   "language": "python",
   "name": "python3"
  },
  "language_info": {
   "codemirror_mode": {
    "name": "ipython",
    "version": 3
   },
   "file_extension": ".py",
   "mimetype": "text/x-python",
   "name": "python",
   "nbconvert_exporter": "python",
   "pygments_lexer": "ipython3",
   "version": "3.10.13"
  }
 },
 "nbformat": 4,
 "nbformat_minor": 5
}
