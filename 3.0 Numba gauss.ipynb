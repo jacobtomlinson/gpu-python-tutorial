{
 "cells": [
  {
   "cell_type": "markdown",
   "id": "bd360c2d-3ddb-49df-a726-923b5566b367",
   "metadata": {},
   "source": [
    "# Gaussian blur with Numba\n",
    "\n",
    "Let's try doing something a little more complex. Let's take an image and use our GPU to apply a gaussian blur."
   ]
  },
  {
   "cell_type": "code",
   "execution_count": null,
   "id": "7a5c539e-33e9-4f2d-8aa3-faac917abce2",
   "metadata": {
    "tags": []
   },
   "outputs": [],
   "source": [
    "import matplotlib as mpl\n",
    "import matplotlib.pyplot as plt\n",
    "from numba import cuda\n",
    "import numpy as np\n",
    "import math\n",
    "\n",
    "plt.rcParams[\"figure.figsize\"] = (30,4)"
   ]
  },
  {
   "cell_type": "markdown",
   "id": "55e7ba92-2a77-4a66-8a1f-e035e34840d7",
   "metadata": {},
   "source": [
    "## Data loading\n",
    "\n",
    "After we import the tools we will need we can read in an image file as a numpy array. Let's use the Numba logo."
   ]
  },
  {
   "cell_type": "code",
   "execution_count": null,
   "id": "c6a309ae-d641-49fe-b7e7-1868be02cea3",
   "metadata": {
    "tags": []
   },
   "outputs": [],
   "source": [
    "im = plt.imread(\"images/numba.png\")"
   ]
  },
  {
   "cell_type": "code",
   "execution_count": null,
   "id": "8d7b841f-6e9c-4842-8d36-bfa7caf8618c",
   "metadata": {
    "tags": []
   },
   "outputs": [],
   "source": [
    "type(im)"
   ]
  },
  {
   "cell_type": "code",
   "execution_count": null,
   "id": "81b55f70-618f-4e6c-80a5-5b9dae9ca19d",
   "metadata": {
    "tags": []
   },
   "outputs": [],
   "source": [
    "plt.imshow(im)"
   ]
  },
  {
   "cell_type": "markdown",
   "id": "3c5046f8-de51-4d42-a02f-9c698b761e79",
   "metadata": {},
   "source": [
    "Next let's move the image to the GPU and also create an output array for us to blur our image into."
   ]
  },
  {
   "cell_type": "code",
   "execution_count": null,
   "id": "21fd0189-6e1a-49d1-972f-dc0e411548e4",
   "metadata": {
    "tags": []
   },
   "outputs": [],
   "source": [
    "gpu_im = cuda.to_device(im)\n",
    "gpu_output = cuda.to_device(np.zeros_like(gpu_im))"
   ]
  },
  {
   "cell_type": "markdown",
   "id": "9b0d8ccf-112c-4b79-a167-e6e717fc3f60",
   "metadata": {},
   "source": [
    "## Multi-dimensional indexing\n",
    "\n",
    "Before we write our blur function let's talk about multi-dimensional indexing. In our previous example we used `cuda.grid(1)` to get our `i` value. The `1` in this call refers to the number of dimensions this index should have. We were working with 1-dimensional array to it made sense to have a 1-dimensional index.\n",
    "\n",
    "But now we are working with an image which has three dimensions, two for `x` and `x` and one for `channel` (red, green, blue, alpha)."
   ]
  },
  {
   "cell_type": "code",
   "execution_count": null,
   "id": "bd93543f-bee8-4426-8971-88592970dcf1",
   "metadata": {
    "tags": []
   },
   "outputs": [],
   "source": [
    "im.shape"
   ]
  },
  {
   "cell_type": "markdown",
   "id": "3d8ee278-8cd6-4d4e-a75d-19851e9de68c",
   "metadata": {},
   "source": [
    "We want our CUDA kernel to operate on every pixel in this image. We could continue to use `i`, ensure `i` is `116 * 434 * 4` and unwrap our index ourselves to work out pixel we want to work with.\n",
    "\n",
    "But instead we can use three-dimensional indexing here so that instead of `i` we can have `x`, `y` and `channel` indices.\n",
    "\n",
    "First off we need to specify a three dimensional thread size. Let's continue using a threadsize of `128` but we can specify this as three numbers which multiply to be `128`."
   ]
  },
  {
   "cell_type": "code",
   "execution_count": null,
   "id": "39049871-1d8b-49b0-922a-f467b7f9efad",
   "metadata": {
    "tags": []
   },
   "outputs": [],
   "source": [
    "# threadsperblock = 128\n",
    "threadsperblock = (2, 16, 4)"
   ]
  },
  {
   "cell_type": "markdown",
   "id": "5990f6e8-2f4d-4f5d-a996-694e12a74851",
   "metadata": {},
   "source": [
    "Next we need to calculate our blocksize. We will use the dimensions of our image to calculate how many threads we would need to cover our image."
   ]
  },
  {
   "cell_type": "code",
   "execution_count": null,
   "id": "1ca03085-184c-4717-b0b5-32f73d5123e4",
   "metadata": {
    "tags": []
   },
   "outputs": [],
   "source": [
    "blockspergrid_x = math.ceil(gpu_im.shape[0] / threadsperblock[0])\n",
    "blockspergrid_y = math.ceil(gpu_im.shape[1] / threadsperblock[1])\n",
    "blockspergrid_z = math.ceil(gpu_im.shape[2] / threadsperblock[2])\n",
    "blockspergrid = (blockspergrid_x, blockspergrid_y, blockspergrid_z)"
   ]
  },
  {
   "cell_type": "code",
   "execution_count": null,
   "id": "c8777ada-d89f-4210-94dd-11e578986b84",
   "metadata": {
    "tags": []
   },
   "outputs": [],
   "source": [
    "blockspergrid"
   ]
  },
  {
   "cell_type": "markdown",
   "id": "499ec48f-c7ab-4287-a4af-1cd9e8971a45",
   "metadata": {},
   "source": [
    "If we multiply our threads and blocks together we can see that we have a grid that is slightly larger than our image."
   ]
  },
  {
   "cell_type": "code",
   "execution_count": null,
   "id": "877bf265-bb7c-4653-9f83-74c1e800c627",
   "metadata": {
    "tags": []
   },
   "outputs": [],
   "source": [
    "[t*b for t, b in zip(threadsperblock, blockspergrid)]"
   ]
  },
  {
   "cell_type": "markdown",
   "id": "71eb88f5-da16-4769-851d-72976d576a2a",
   "metadata": {},
   "source": [
    "## Writing our blur kernel\n",
    "\n",
    "Our kernel needs to take in the image and the output array.\n",
    "\n",
    "It needs to get the grid position to operate on and then perform the blur on the image in that position.\n",
    "\n",
    "We only care about blurring across the `x` and `y` dimensions, not accross the colours. So we will just pass the `c` value straight through."
   ]
  },
  {
   "cell_type": "code",
   "execution_count": null,
   "id": "0c2e96dc-c38c-4d24-bfc7-17a545b507a8",
   "metadata": {
    "tags": []
   },
   "outputs": [],
   "source": [
    "@cuda.jit\n",
    "def blur(im, output):\n",
    "    # With our three-dimensional grid we can get our index position in three dimensions\n",
    "    x, y, c = cuda.grid(3)\n",
    "    \n",
    "    # Because our grid is slightly larger than our image anything outside the image should be ignored\n",
    "    if x < im.shape[0] and y < im.shape[1] and c < im.shape[2]:\n",
    "        \n",
    "        # Set the output array pixel to the average of the nine pixels around that point on the input array\n",
    "        output[x, y, c] = (im[x-1, y-1, c] + im[x, y-1, c] + im[x+1, y-1, c]  + \\\n",
    "                           im[x-1, y, c]   + im[x, y, c]   + im[x+1, y, c]    + \\\n",
    "                           im[x-1, y+1, c] + im[x+1, y, c] + im[x+1, y+1, c]) / 9"
   ]
  },
  {
   "cell_type": "markdown",
   "id": "3eede620-c57b-43fc-834b-46d3a39e2087",
   "metadata": {},
   "source": [
    "## Running our kernel\n",
    "\n",
    "Now let's run our kernel a number of times to get our desired level of blur.\n",
    "\n",
    "We need each pass to complete before starting the next one. We also need our output to become our input, and we need a new output to work into. We can reuse the old input as our new output array, this is efficient because we can just reuse both existing arrays on the GPU.\n",
    "\n",
    "This is where manual memory management comes in handy, we can call our kernel many times but leave all the data on the GPU. We just swap pointers around between each pass."
   ]
  },
  {
   "cell_type": "code",
   "execution_count": null,
   "id": "316baf2c-5341-4083-8f59-3b7229eb03c1",
   "metadata": {
    "tags": []
   },
   "outputs": [],
   "source": [
    "for i in range(5):\n",
    "    blur[blockspergrid, threadsperblock](gpu_im, gpu_output)\n",
    "    gpu_im, gpu_output = gpu_output, gpu_im"
   ]
  },
  {
   "cell_type": "markdown",
   "id": "b6064723-a737-4b83-85ee-a499ddd5f8b4",
   "metadata": {},
   "source": [
    "Now if we look at our image it should be sufficiently blurry."
   ]
  },
  {
   "cell_type": "code",
   "execution_count": null,
   "id": "02783f5a-b6be-4386-a660-1a3aa6992df9",
   "metadata": {
    "tags": []
   },
   "outputs": [],
   "source": [
    "plt.imshow(gpu_output.copy_to_host())"
   ]
  },
  {
   "cell_type": "code",
   "execution_count": null,
   "id": "b9b62e42-24e8-4ebb-bb30-e1659b633265",
   "metadata": {},
   "outputs": [],
   "source": []
  }
 ],
 "metadata": {
  "kernelspec": {
   "display_name": "Python 3 (ipykernel)",
   "language": "python",
   "name": "python3"
  },
  "language_info": {
   "codemirror_mode": {
    "name": "ipython",
    "version": 3
   },
   "file_extension": ".py",
   "mimetype": "text/x-python",
   "name": "python",
   "nbconvert_exporter": "python",
   "pygments_lexer": "ipython3",
   "version": "3.10.13"
  }
 },
 "nbformat": 4,
 "nbformat_minor": 5
}
