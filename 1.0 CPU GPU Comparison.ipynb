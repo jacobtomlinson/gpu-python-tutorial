{
 "cells": [
  {
   "cell_type": "markdown",
   "id": "ff189fc2-802c-42d7-a299-8b8224f0d025",
   "metadata": {},
   "source": [
    "# CPU and GPU Comparison"
   ]
  },
  {
   "cell_type": "markdown",
   "id": "216bd640-6104-45e8-a7c6-09ce9af20f1c",
   "metadata": {},
   "source": [
    "The CPU is the most common type of processor for execurting your code. CPUs have one or more serial processors which each take single intructions from a stack and **execute them sequentially**.\n",
    "\n",
    "GPUs are a form of coprocessor which are commonly used for video and image rendering, but are not extremely popular in machine learning and data science fields too. GPUs have one or more streaming multiprocessors which take in arrays of instructions and **execute them in parallel**."
   ]
  },
  {
   "cell_type": "markdown",
   "id": "afdb98ac-89dc-44a6-a3fc-bd5a8374daf7",
   "metadata": {},
   "source": [
    "<figure>\n",
    "\n",
    "![CPU GPU Comparison](images/cpu-gpu.png)\n",
    "\n",
    "<figcaption style=\"text-align: center;\"> \n",
    "    \n",
    "Image source <a href=\"https://docs.nvidia.com/cuda/cuda-c-programming-guide/\">https://docs.nvidia.com/cuda/cuda-c-programming-guide/</a>\n",
    "    \n",
    "</figcaption>\n",
    "</figure>\n"
   ]
  },
  {
   "cell_type": "markdown",
   "id": "85278019-6617-43dd-9928-9571a683ea6a",
   "metadata": {},
   "source": [
    "## Mythbusters explaination"
   ]
  },
  {
   "cell_type": "markdown",
   "id": "fb6bad2c-63ee-4c28-a42f-9323b1e689d2",
   "metadata": {},
   "source": [
    "This video may help explain the concept visually."
   ]
  },
  {
   "cell_type": "code",
   "execution_count": null,
   "id": "85961642-b01c-4ce2-9872-31c3f2186072",
   "metadata": {
    "tags": []
   },
   "outputs": [],
   "source": [
    "from IPython.display import YouTubeVideo\n",
    "YouTubeVideo(id='-P28LKWTzrI',width=1000,height=600)"
   ]
  },
  {
   "cell_type": "markdown",
   "id": "fbf0ab63-065c-40e9-9d16-2f51ea192bfc",
   "metadata": {},
   "source": [
    "## So how do you control the GPU?"
   ]
  },
  {
   "cell_type": "markdown",
   "id": "a63ebb5e-3a44-43d6-bab4-22bd98ea523e",
   "metadata": {},
   "source": [
    "Executing code on your GPU feels a lot like executing code on a second computer over a network.\n",
    "\n",
    "If I wanted to send a Python program to another machine to be executed I would need a few things:\n",
    "- A way to copy data and code to the remote machine (SCP, SFTP, SMB, NFS, etc)\n",
    "- A way to log in and execute programs on that remote machine (SSH, VNC, Remote Desktop, etc)\n",
    "\n",
    "![CPU GPU Comparison](images/two-computers-network.png)"
   ]
  },
  {
   "cell_type": "markdown",
   "id": "a302560a-a0bc-4dc9-914c-340817c4b85d",
   "metadata": {},
   "source": [
    "To achieve the same things with the GPU we need to use CUDA over PCI. But the idea is still the same, we need to move data and code to the device and execute that code. \n",
    "\n",
    "\n",
    "\n",
    "![CPU GPU Comparison](images/computer-gpu-cuda.png)"
   ]
  },
  {
   "cell_type": "markdown",
   "id": "888d4144-13bc-487a-a4e1-45995e4b54bc",
   "metadata": {},
   "source": [
    "## What is CUDA\n",
    "\n",
    "[CUDA](https://developer.nvidia.com/cuda-zone) is an extension to C++ which allows us to compile GPU code and interact with the GPU.\n",
    "\n",
    "### But I write Python, not C++\n",
    "\n",
    "Over the last few years NVIDIA has invested in bringing the CUDA functionality to Python. \n",
    "\n",
    "Today there are packages like [Numba](http://numba.pydata.org/) which allows us to Just In Time (JIT) compile Python code into something that is compatible with CUDA and provides bindings to transfer data and execute that code. \n",
    "\n",
    "There are also many high level packages such as [CuPy](https://cupy.dev/), [cuDF](https://github.com/rapidsai/cudf), [cuML](https://github.com/rapidsai/cuml), [cuGraph](https://github.com/rapidsai/cugraph), [cuSignal](https://github.com/rapidsai/cusignal) and more which implement functionality in CUDA C++ and then package that with Python bindings so that it can be used directly from Python. These packages are collectively known as [RAPIDS](https://rapids.ai/).\n",
    "\n",
    "Lastly there is also the recently announced [CUDA Python](https://developer.nvidia.com/cuda-python) which provides Cython/Python wrappers for the CUDA driver and runtime APIs and is currently in preview.\n",
    "\n",
    "This tutorial will focus on Numba and RAPIDS."
   ]
  }
 ],
 "metadata": {
  "kernelspec": {
   "display_name": "Python 3 (ipykernel)",
   "language": "python",
   "name": "python3"
  },
  "language_info": {
   "codemirror_mode": {
    "name": "ipython",
    "version": 3
   },
   "file_extension": ".py",
   "mimetype": "text/x-python",
   "name": "python",
   "nbconvert_exporter": "python",
   "pygments_lexer": "ipython3",
   "version": "3.10.13"
  }
 },
 "nbformat": 4,
 "nbformat_minor": 5
}
