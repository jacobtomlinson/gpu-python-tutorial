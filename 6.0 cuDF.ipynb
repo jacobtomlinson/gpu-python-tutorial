{
 "cells": [
  {
   "cell_type": "markdown",
   "id": "206f2d19-ee54-4612-8e5c-4c9286ed65f2",
   "metadata": {},
   "source": [
    "# cuDF\n",
    "\n",
    "Now let's move onto some more high level APIs, starting with [cuDF](https://github.com/rapidsai/cudf). Similar to `pandas` the `cudf` library is a dataframe package for working with tabular datasets.\n",
    "\n",
    "Data is loaded onto the GPU and all operations are performed with GPU compute, but the API of `cudf` should feel very familiar to `pandas` users."
   ]
  },
  {
   "cell_type": "code",
   "execution_count": null,
   "id": "4772c7b8-eb17-4215-a502-ebe83cf47eae",
   "metadata": {
    "tags": []
   },
   "outputs": [],
   "source": [
    "import cudf"
   ]
  },
  {
   "cell_type": "markdown",
   "id": "aac963d3-d69e-4076-82d5-11af3957190f",
   "metadata": {},
   "source": [
    "## Data loading"
   ]
  },
  {
   "cell_type": "markdown",
   "id": "95b73460-b76e-4299-8e25-08633935c3ab",
   "metadata": {},
   "source": [
    "In this tutorial we have some data stored in `data/`. Most of this data is too small to really benefit from GPU acceleration, but let's explore it anyway."
   ]
  },
  {
   "cell_type": "code",
   "execution_count": null,
   "id": "1ec43622-a325-4367-aa43-fd2a42864ad3",
   "metadata": {
    "tags": []
   },
   "outputs": [],
   "source": [
    "import pandas as pd"
   ]
  },
  {
   "cell_type": "code",
   "execution_count": null,
   "id": "c90e6d77-2ab2-480c-9a33-f4d64d4d4f70",
   "metadata": {
    "tags": []
   },
   "outputs": [],
   "source": [
    "df = pd.read_csv(\"https://github.com/jacobtomlinson/gpu-python-tutorial/raw/main/data/pageviews_small.csv\", sep=\" \")\n",
    "df.head()"
   ]
  },
  {
   "cell_type": "code",
   "execution_count": null,
   "id": "14a86ca3-3d6e-4c1b-b41e-57a417359453",
   "metadata": {
    "tags": []
   },
   "outputs": [],
   "source": [
    "pageviews = cudf.read_csv(\"https://github.com/jacobtomlinson/gpu-python-tutorial/raw/main/data/pageviews_small.csv\", sep=\" \")\n",
    "pageviews.head()"
   ]
  },
  {
   "cell_type": "markdown",
   "id": "af8f440a-6f14-4c15-8989-681061885a56",
   "metadata": {},
   "source": [
    "This `pageviews.csv` file contains just over `1M` records of pageview counts from Wikipedia in various languages.\n",
    "\n",
    "Let's rename the columns and drop the unused `x` column."
   ]
  },
  {
   "cell_type": "code",
   "execution_count": null,
   "id": "7009c9dc-16a0-48ce-92c1-8c46c15ec545",
   "metadata": {
    "tags": []
   },
   "outputs": [],
   "source": [
    "pageviews.columns = ['project', 'page', 'requests', 'x']\n",
    "\n",
    "pageviews = pageviews.drop('x', axis=1)\n",
    "\n",
    "pageviews"
   ]
  },
  {
   "cell_type": "markdown",
   "id": "82170548-e30a-44f3-9a90-233e137c3d37",
   "metadata": {},
   "source": [
    "Next let's count how many english record are in this dataset."
   ]
  },
  {
   "cell_type": "code",
   "execution_count": null,
   "id": "21649483-7563-45ab-921a-a3eb47d186db",
   "metadata": {
    "tags": []
   },
   "outputs": [],
   "source": [
    "print(pageviews[pageviews.project == 'en'].count())"
   ]
  },
  {
   "cell_type": "markdown",
   "id": "75a70f60-e655-4a80-8fac-d3b064e9df6d",
   "metadata": {},
   "source": [
    "Then let's perform a groupby where we count all of the pages by language."
   ]
  },
  {
   "cell_type": "code",
   "execution_count": null,
   "id": "40043baa-2175-4e25-9d5a-ec460e824558",
   "metadata": {
    "tags": []
   },
   "outputs": [],
   "source": [
    "grouped_pageviews = pageviews.groupby('project').count().reset_index()\n",
    "grouped_pageviews"
   ]
  },
  {
   "cell_type": "markdown",
   "id": "d829f77c-9776-4b49-b199-fc51d49932b7",
   "metadata": {},
   "source": [
    "And finally let's have a look at the results for English, French, Chinese and Polish specificallty."
   ]
  },
  {
   "cell_type": "code",
   "execution_count": null,
   "id": "5cf65103-b0c8-4092-9851-4fe64d01ea12",
   "metadata": {
    "tags": []
   },
   "outputs": [],
   "source": [
    "print(grouped_pageviews[grouped_pageviews.project.isin(['en', 'fr', 'zh', 'pl'])])"
   ]
  },
  {
   "cell_type": "markdown",
   "id": "11291229-10ca-4dea-a62d-20af58f84801",
   "metadata": {},
   "source": [
    "If you have used `pandas` before then all fo this syntax should be very familiar to you. In the same way that `cupy` implements a large portion of the `numpy` API, `cudf` implements a large portion of the `pandas` API.\n",
    "\n",
    "The only difference is that all of our filtering and groupby operations happened on the GPU instead of the CPU giving much better performance."
   ]
  },
  {
   "cell_type": "markdown",
   "id": "37604175-6954-4474-a3c8-eb15a96e7a7e",
   "metadata": {},
   "source": [
    "### Strings\n",
    "\n",
    "GPUs historically are well known for numerical work and have not been used for working with more complex objects. With cuDF string operations are also acellerated thanks to leveraging cuStrings under the hood.\n",
    "\n",
    "This means operations like capitalizing strings can be parallelised on the GPU."
   ]
  },
  {
   "cell_type": "code",
   "execution_count": null,
   "id": "19288eb6-e52d-44c6-9ca9-9947e7e9085c",
   "metadata": {
    "tags": []
   },
   "outputs": [],
   "source": [
    "pageviews[pageviews.project == 'en'].page.str.upper()"
   ]
  },
  {
   "cell_type": "code",
   "execution_count": null,
   "id": "1fdd39fb-2cfc-46b6-a416-5ca0efe580a9",
   "metadata": {
    "tags": []
   },
   "outputs": [],
   "source": [
    "pageviews_en = pageviews[pageviews.project == 'en']\n",
    "print(pageviews_en.page.str.upper().head())"
   ]
  },
  {
   "cell_type": "markdown",
   "id": "d0f707c7-0564-4d41-83fa-8c96e4c954a3",
   "metadata": {},
   "source": [
    "### UDFs\n",
    "\n",
    "cuDF also has support for user defined functions (UDFs) that can be mapped over a Series or DataFrame in parallel on the GPU.\n",
    "\n",
    "UDFs can be defined as pure Python functions that take a single value, these will be compiled down by Numba at runtime into something that can run on the GPU when we call `.apply()`."
   ]
  },
  {
   "cell_type": "code",
   "execution_count": null,
   "id": "074d6601-e111-4333-8a22-c7a417cd28cc",
   "metadata": {
    "tags": []
   },
   "outputs": [],
   "source": [
    "def udf(x):\n",
    "    if x < 5:\n",
    "        return 0\n",
    "    return x"
   ]
  },
  {
   "cell_type": "code",
   "execution_count": null,
   "id": "951236d0-e6de-4f29-a18b-f6d8f5882a1c",
   "metadata": {
    "tags": []
   },
   "outputs": [],
   "source": [
    "pageviews.requests = pageviews.requests.apply(udf)"
   ]
  },
  {
   "cell_type": "code",
   "execution_count": null,
   "id": "99c6ba01-5f8e-4674-b0b5-17223aa65fac",
   "metadata": {
    "tags": []
   },
   "outputs": [],
   "source": [
    "pageviews.requests"
   ]
  },
  {
   "cell_type": "markdown",
   "id": "578d9ed7-d472-4f19-9249-3d326ec1a8f5",
   "metadata": {},
   "source": [
    "It is also possible to use Numba directly to write kernels that take pointers to an input column and an output column along with additional arguments. The kernel can then use `cuda.grid` the same way we did in chapters 2/3 to get an index to operate on.\n",
    "\n",
    "We then use `.forall()` to map our kernel over a column."
   ]
  },
  {
   "cell_type": "code",
   "execution_count": null,
   "id": "6175d414-e00f-4bf8-9b53-bf046b35d08d",
   "metadata": {
    "tags": []
   },
   "outputs": [],
   "source": [
    "pageviews['mul_requests'] = 0.0"
   ]
  },
  {
   "cell_type": "code",
   "execution_count": null,
   "id": "76a04b41-be4b-4ad8-8a61-285cde2cd0bb",
   "metadata": {
    "tags": []
   },
   "outputs": [],
   "source": [
    "from numba import cuda"
   ]
  },
  {
   "cell_type": "code",
   "execution_count": null,
   "id": "f6f2dfa5-a706-4f26-b823-354b2741bff1",
   "metadata": {
    "tags": []
   },
   "outputs": [],
   "source": [
    "@cuda.jit\n",
    "def multiply(in_col, out_col, multiplier):\n",
    "    i = cuda.grid(1)\n",
    "    if i < in_col.size: # boundary guard\n",
    "        out_col[i] = in_col[i] * multiplier\n"
   ]
  },
  {
   "cell_type": "code",
   "execution_count": null,
   "id": "c4963f5d-4fae-42f8-b5f5-85d1f34221d8",
   "metadata": {
    "tags": []
   },
   "outputs": [],
   "source": [
    "multiply.forall(len(pageviews))(pageviews['requests'], pageviews['mul_requests'], 10.0)"
   ]
  },
  {
   "cell_type": "code",
   "execution_count": null,
   "id": "4f720ab3-2b92-47cc-a327-4ab0c72b6e05",
   "metadata": {
    "tags": []
   },
   "outputs": [],
   "source": [
    "print(pageviews.head())"
   ]
  },
  {
   "cell_type": "markdown",
   "id": "f180ca1a-7785-404a-8fe4-89b1112abdbf",
   "metadata": {},
   "source": [
    "## Rolling windows\n",
    "\n",
    "In cuDF there is also support for applying kernels over rolling windows. This is effectively a 1D stencil and can allow us to perform operations based on our neigbors.\n",
    "\n",
    "![](images/rolling-windows.png)"
   ]
  },
  {
   "cell_type": "code",
   "execution_count": null,
   "id": "f958d4e7-1182-410d-8398-b4eaffd8f9ea",
   "metadata": {
    "tags": []
   },
   "outputs": [],
   "source": [
    "def neigborhood_mean(window):\n",
    "    c = 0\n",
    "    for val in window:\n",
    "        c += val\n",
    "    return c / len(window)"
   ]
  },
  {
   "cell_type": "code",
   "execution_count": null,
   "id": "0ac08b0d-063c-443d-837f-56557e4b5d07",
   "metadata": {
    "tags": []
   },
   "outputs": [],
   "source": [
    "pageviews.requests.rolling(3, 1, True).apply(neigborhood_mean)"
   ]
  },
  {
   "cell_type": "code",
   "execution_count": null,
   "id": "a6f7ab30-af53-4c83-a877-e2d6ba339190",
   "metadata": {},
   "outputs": [],
   "source": []
  }
 ],
 "metadata": {
  "kernelspec": {
   "display_name": "Python 3 (ipykernel)",
   "language": "python",
   "name": "python3"
  },
  "language_info": {
   "codemirror_mode": {
    "name": "ipython",
    "version": 3
   },
   "file_extension": ".py",
   "mimetype": "text/x-python",
   "name": "python",
   "nbconvert_exporter": "python",
   "pygments_lexer": "ipython3",
   "version": "3.10.13"
  }
 },
 "nbformat": 4,
 "nbformat_minor": 5
}
