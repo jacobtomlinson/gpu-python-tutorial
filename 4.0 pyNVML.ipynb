{
 "cells": [
  {
   "cell_type": "markdown",
   "id": "71f09962-079f-4425-b35e-335f1f9d845f",
   "metadata": {},
   "source": [
    "# What is my GPU doing?\n",
    "\n",
    "Now that we are executing code on our GPUs we may want to understand more about how well we are utilising our hardware.\n",
    "\n",
    "This tutorial is designed to be used with [jupyterlab-nvdashboard](https://github.com/rapidsai/jupyterlab-nvdashboard) which is a Jupyter Lab extension that shows graphs of your GPU utilization, memory and transfer speeds.\n",
    "\n",
    "![](images/nvdashboard.gif)"
   ]
  },
  {
   "cell_type": "markdown",
   "id": "00607eb2-9493-4627-afed-1249b1a5b4d0",
   "metadata": {},
   "source": [
    "All of the APIs used to create this dashboard are available in Python, so let's dig into pyNVML ourselves.\n",
    "\n",
    "NVML stands for the NVIDIA Markup Language and is a package which is included with NVIDIA drivers to report information about GPU status.\n",
    "\n",
    "We can import and use the [`pyNVML` package](https://pypi.org/project/pynvml/) to explore this data."
   ]
  },
  {
   "cell_type": "code",
   "execution_count": null,
   "id": "ecaba429-3888-4e21-8b4f-025c5f88ec5c",
   "metadata": {},
   "outputs": [],
   "source": [
    "import pynvml\n",
    "pynvml.nvmlInit()"
   ]
  },
  {
   "cell_type": "markdown",
   "id": "752e9781-e856-40f6-a03d-5f66715f8253",
   "metadata": {},
   "source": [
    "This package provices direct bindings to the C NVML library, so pretty much anything mentioned in their documentation is possible.\n",
    "\n",
    "We can see how many GPUs we have."
   ]
  },
  {
   "cell_type": "code",
   "execution_count": null,
   "id": "3a1888b2-8a45-4166-a8d6-c1a35a8d5fc4",
   "metadata": {},
   "outputs": [],
   "source": [
    "pynvml.nvmlDeviceGetCount()"
   ]
  },
  {
   "cell_type": "markdown",
   "id": "3c755a89-83d6-4aab-9b80-6d0e2af3cc48",
   "metadata": {},
   "source": [
    "What our driver version is."
   ]
  },
  {
   "cell_type": "code",
   "execution_count": null,
   "id": "d95d678d-6d44-45e6-93bd-07f90bcf6e04",
   "metadata": {},
   "outputs": [],
   "source": [
    "pynvml.nvmlSystemGetDriverVersion()"
   ]
  },
  {
   "cell_type": "markdown",
   "id": "1cc104eb-4a25-4fa6-a359-706b32207622",
   "metadata": {},
   "source": [
    "We can then grab a handle for each GPU to query specific metrics about it."
   ]
  },
  {
   "cell_type": "code",
   "execution_count": null,
   "id": "cbb82832-c930-4bf7-acb4-a73f64f33b76",
   "metadata": {},
   "outputs": [],
   "source": [
    "gpus = [pynvml.nvmlDeviceGetHandleByIndex(i) for i in range(pynvml.nvmlDeviceGetCount())]\n",
    "gpus"
   ]
  },
  {
   "cell_type": "markdown",
   "id": "ab3e931e-35d2-4a21-8930-10c1cf0b5655",
   "metadata": {},
   "source": [
    "We can get the model."
   ]
  },
  {
   "cell_type": "code",
   "execution_count": null,
   "id": "0301baf7-fdf4-4a43-ad79-831c3281e77f",
   "metadata": {},
   "outputs": [],
   "source": [
    "[pynvml.nvmlDeviceGetName(gpu) for gpu in gpus]"
   ]
  },
  {
   "cell_type": "markdown",
   "id": "254f1d7f-b650-4fc3-a7bf-ccfb91e925f2",
   "metadata": {},
   "source": [
    "We can get memory info (let's convert it to GiB)"
   ]
  },
  {
   "cell_type": "code",
   "execution_count": null,
   "id": "69a52159-1fd4-4bb1-9db8-2287a7f614c2",
   "metadata": {},
   "outputs": [],
   "source": [
    "[pynvml.nvmlDeviceGetMemoryInfo(gpu).used / 1e9 for gpu in gpus]"
   ]
  },
  {
   "cell_type": "code",
   "execution_count": null,
   "id": "7345d98b-1636-4c1f-bcf2-ac2fd8f54beb",
   "metadata": {},
   "outputs": [],
   "source": [
    "[pynvml.nvmlDeviceGetMemoryInfo(gpu).free / 1e9 for gpu in gpus]"
   ]
  },
  {
   "cell_type": "markdown",
   "id": "1f9fd3c1-8137-4833-aa63-c913e86aff26",
   "metadata": {},
   "source": [
    "By accessing rich metrics from our GPUs we can make more informed decisions on how our code is performing and how we can divide up our work."
   ]
  }
 ],
 "metadata": {
  "kernelspec": {
   "display_name": "Python 3 (ipykernel)",
   "language": "python",
   "name": "python3"
  },
  "language_info": {
   "codemirror_mode": {
    "name": "ipython",
    "version": 3
   },
   "file_extension": ".py",
   "mimetype": "text/x-python",
   "name": "python",
   "nbconvert_exporter": "python",
   "pygments_lexer": "ipython3",
   "version": "3.10.13"
  }
 },
 "nbformat": 4,
 "nbformat_minor": 5
}
