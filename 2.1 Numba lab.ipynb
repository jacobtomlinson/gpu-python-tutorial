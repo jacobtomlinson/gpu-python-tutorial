{
 "cells": [
  {
   "cell_type": "markdown",
   "id": "9af66fe0-71ee-4a4c-b16d-e7288a7aa863",
   "metadata": {},
   "source": [
    "# Numba Lab\n",
    "\n",
    "Now it's your turn!\n",
    "\n",
    "Your challenge is to implement Fizz Buzz in CUDA Python with numba and calculate all instances of `Fizz`, `Buzz` and `Fizz Buzz` for the numbers between `1` and `50_000_000`.\n",
    "\n",
    "Before you begin, please turn off Google Colab's autocompletion by going to the settings gear in the top right -> Editor -> Uncheck \"Automatically trigger code completions\""
   ]
  },
  {
   "cell_type": "code",
   "execution_count": null,
   "id": "83342135-ae20-44f4-b807-d8a0e715a41b",
   "metadata": {},
   "outputs": [],
   "source": [
    "import numpy as np\n",
    "from numba import cuda"
   ]
  },
  {
   "cell_type": "markdown",
   "id": "58f3fbf4-7e50-43de-9ddb-f7fd6a3cf7d3",
   "metadata": {},
   "source": [
    "**1. Create the input data array.** Try using `np.arange`."
   ]
  },
  {
   "cell_type": "code",
   "execution_count": null,
   "id": "75188098-ad67-4ebc-8123-48aa40071524",
   "metadata": {},
   "outputs": [],
   "source": [
    "data = ...\n",
    "data"
   ]
  },
  {
   "cell_type": "markdown",
   "id": "3334d891-8331-4bad-8528-b16e0e2f0719",
   "metadata": {},
   "source": [
    "**2. Create the output data array.**"
   ]
  },
  {
   "cell_type": "code",
   "execution_count": null,
   "id": "2bc25714-5f7c-4653-b660-0fca3a7682b9",
   "metadata": {},
   "outputs": [],
   "source": [
    "output = ...\n",
    "output"
   ]
  },
  {
   "cell_type": "markdown",
   "id": "67ad1fed-bae3-4e1c-aaac-c90a798a8024",
   "metadata": {},
   "source": [
    "**3. Calculate the number of threads and blocks.**"
   ]
  },
  {
   "cell_type": "code",
   "execution_count": null,
   "id": "d91f35c7-bbbc-4cd3-bd60-38231ffbbf91",
   "metadata": {},
   "outputs": [],
   "source": [
    "threads = 128\n",
    "blocks = ..."
   ]
  },
  {
   "cell_type": "markdown",
   "id": "9d562640-0cd6-434c-9f90-8e7ebc02ccba",
   "metadata": {},
   "source": [
    "**4. Create the kernel.** _Tip: Our output array must be numeric so try using the values `1`, `2` and `3` to represent `Fizz`, `Buzz` and `Fizz Buzz`._"
   ]
  },
  {
   "cell_type": "code",
   "execution_count": null,
   "id": "5706c5b9-6010-407e-95a3-6cecade6ab5c",
   "metadata": {},
   "outputs": [],
   "source": [
    "@cuda.jit\n",
    "def fizz_buzz(input_array, output_array):\n",
    "    ..."
   ]
  },
  {
   "cell_type": "markdown",
   "id": "c0bded64-c8d3-4165-9141-54b97112e58b",
   "metadata": {},
   "source": [
    "**5. Run our kernel.**"
   ]
  },
  {
   "cell_type": "code",
   "execution_count": null,
   "id": "3177d207-d9c6-4624-8ed1-b4b79e6f8ba2",
   "metadata": {},
   "outputs": [],
   "source": [
    "%%time\n",
    "fizz_buzz...\n",
    "output[:12]"
   ]
  },
  {
   "cell_type": "markdown",
   "id": "5fddf47e-3d1d-4cbb-9405-44141fdb5d2f",
   "metadata": {},
   "source": [
    "**Extra Credit 6. Calculate the highest instance of `Fizz`.**"
   ]
  },
  {
   "cell_type": "code",
   "execution_count": null,
   "id": "a9b6ccf7-4f1b-4ad3-bad1-5dd9ea0fccb0",
   "metadata": {},
   "outputs": [],
   "source": [
    "idx = ...\n",
    "data[idx]"
   ]
  }
 ],
 "metadata": {
  "kernelspec": {
   "display_name": "Python 3 (ipykernel)",
   "language": "python",
   "name": "python3"
  },
  "language_info": {
   "codemirror_mode": {
    "name": "ipython",
    "version": 3
   },
   "file_extension": ".py",
   "mimetype": "text/x-python",
   "name": "python",
   "nbconvert_exporter": "python",
   "pygments_lexer": "ipython3",
   "version": "3.10.13"
  }
 },
 "nbformat": 4,
 "nbformat_minor": 5
}
